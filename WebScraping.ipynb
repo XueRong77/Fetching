{
 "cells": [
  {
   "cell_type": "code",
   "execution_count": null,
   "metadata": {},
   "outputs": [],
   "source": [
    "from bs4 import BeautifulSoup\n",
    "import requests\n",
    "\n",
    "response = requests.get('http://example.com')\n",
    "soup = BeautifulSoup(response.text, 'html.parser')\n",
    "\n",
    "data = soup.find_all('div')  # Adjust this to target your desired HTML elements\n",
    "print(data)\n"
   ]
  }
 ],
 "metadata": {
  "language_info": {
   "name": "python"
  },
  "orig_nbformat": 4
 },
 "nbformat": 4,
 "nbformat_minor": 2
}
