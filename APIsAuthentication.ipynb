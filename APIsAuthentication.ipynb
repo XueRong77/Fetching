{
 "cells": [
  {
   "cell_type": "code",
   "execution_count": null,
   "metadata": {},
   "outputs": [],
   "source": [
    "import requests\n",
    "\n",
    "headers = {\n",
    "    'Authorization': 'Bearer YOUR_TOKEN'\n",
    "}\n",
    "\n",
    "response = requests.get('http://api.website.com/data', headers=headers)\n",
    "data = response.json()\n",
    "print(data)\n",
    "\n"
   ]
  }
 ],
 "metadata": {
  "language_info": {
   "name": "python"
  },
  "orig_nbformat": 4
 },
 "nbformat": 4,
 "nbformat_minor": 2
}
