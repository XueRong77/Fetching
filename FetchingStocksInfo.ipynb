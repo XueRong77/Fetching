{
 "cells": [
  {
   "cell_type": "code",
   "execution_count": null,
   "metadata": {},
   "outputs": [],
   "source": [
    "import yfinance as yf\n",
    "import pandas as pd\n",
    "import datetime\n"
   ]
  },
  {
   "cell_type": "code",
   "execution_count": null,
   "metadata": {},
   "outputs": [],
   "source": [
    "stock_symbols_df = pd.read_excel('symbol.xlsx')\n",
    "stock_symbol_list = stock_symbols_df['Symbol'].tolist()\n",
    "\n",
    "# List of CSI 300 stock symbols\n",
    "csi_300_stocks = stock_symbol_list\n",
    "\n",
    "# Define the date ranges\n",
    "start_date_train = \"2012-01-01\"\n",
    "end_date_train = \"2019-12-31\"\n",
    "start_date_test = \"2020-01-01\"\n",
    "end_date_test = \"2022-12-31\"\n",
    "\n",
    "# Create empty DataFrames for training and testing data\n",
    "train_data = pd.DataFrame()\n",
    "test_data = pd.DataFrame()\n",
    "\n",
    "# Fetch the stock data\n",
    "for stock_symbol in csi_300_stocks:\n",
    "    if isinstance(stock_symbol, str):\n",
    "        stock = yf.Ticker(stock_symbol)\n",
    "        stock_df = stock.history(start=start_date_train, end=end_date_test)\n",
    "\n",
    "        # Add a column with the stock symbol\n",
    "        stock_df[\"symbol\"] = stock_symbol\n",
    "\n",
    "        # Split the data into training and testing sets\n",
    "        train_df = stock_df.loc[start_date_train:end_date_train]\n",
    "        test_df = stock_df.loc[start_date_test:end_date_test]\n",
    "\n",
    "        # Append the data to the corresponding DataFrames\n",
    "        train_data = train_data.append(train_df)\n",
    "        test_data = test_data.append(test_df)\n",
    "    else:\n",
    "        print(f\"Invalid stock symbol: {stock_symbol}\")\n",
    "\n",
    "# Save the data to CSV files\n",
    "train_data.to_csv(\"train_data.csv\")\n",
    "test_data.to_csv(\"test_data.csv\")"
   ]
  }
 ],
 "metadata": {
  "language_info": {
   "name": "python"
  },
  "orig_nbformat": 4
 },
 "nbformat": 4,
 "nbformat_minor": 2
}
